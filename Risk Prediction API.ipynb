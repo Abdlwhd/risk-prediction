{
 "cells": [
  {
   "cell_type": "code",
   "execution_count": 1,
   "id": "7c8c5137",
   "metadata": {},
   "outputs": [],
   "source": [
    "from flask import Flask,request,jsonify\n",
    "import numpy as np\n",
    "import pickle\n",
    "from flask_restful import Resource, Api"
   ]
  },
  {
   "cell_type": "code",
   "execution_count": 3,
   "id": "a8b2aad8",
   "metadata": {},
   "outputs": [
    {
     "name": "stdout",
     "output_type": "stream",
     "text": [
      " * Serving Flask app '__main__' (lazy loading)\n",
      " * Environment: production\n",
      "\u001b[31m   WARNING: This is a development server. Do not use it in a production deployment.\u001b[0m\n",
      "\u001b[2m   Use a production WSGI server instead.\u001b[0m\n",
      " * Debug mode: off\n"
     ]
    },
    {
     "name": "stderr",
     "output_type": "stream",
     "text": [
      " * Running on http://127.0.0.1:5000 (Press CTRL+C to quit)\n",
      "C:\\Users\\DELL\\anaconda3\\lib\\site-packages\\sklearn\\base.py:450: UserWarning: X does not have valid feature names, but RandomForestClassifier was fitted with feature names\n",
      "  warnings.warn(\n",
      "127.0.0.1 - - [16/Jul/2022 18:07:29] \"POST /predict?AGE=77&PTGENDER=1&PTEDUCAT=16&PTRACCAT=3&PTMARRY=2&TRABSCOR=90&FAQ=0&MOCA=23 HTTP/1.1\" 200 -\n",
      "C:\\Users\\DELL\\anaconda3\\lib\\site-packages\\sklearn\\base.py:450: UserWarning: X does not have valid feature names, but RandomForestClassifier was fitted with feature names\n",
      "  warnings.warn(\n",
      "127.0.0.1 - - [16/Jul/2022 18:07:39] \"POST /predict?AGE=77&PTGENDER=1&PTEDUCAT=16&PTRACCAT=3&PTMARRY=2&TRABSCOR=90&FAQ=0&MOCA=23 HTTP/1.1\" 200 -\n"
     ]
    }
   ],
   "source": [
    "model = pickle.load(open('model.pkl','rb'))\n",
    "app = Flask(__name__)\n",
    "api = Api(app)\n",
    "class RiskAPI(Resource):\n",
    "# @app.route('/predict',methods=['POST'])\n",
    "# def predict():\n",
    "        def post(self):\n",
    "            AGE = request.form.get('AGE')\n",
    "    #     PTGENDER = request.form.get('PTGENDER')\n",
    "            PTEDUCAT = request.form.get('PTEDUCAT')\n",
    "            PTRACCAT = request.form.get('PTRACCAT')\n",
    "            PTMARRY = request.form.get('PTMARRY')\n",
    "            TRABSCOR = request.form.get('TRABSCOR')\n",
    "            FAQ = request.form.get('FAQ')\n",
    "            MOCA = request.form.get('MOCA')\n",
    "            inputs =  np.array([AGE,PTEDUCAT,PTRACCAT,PTMARRY,TRABSCOR,FAQ,MOCA])\n",
    "            result = model.predict_proba(inputs.reshape(1, -1))[:,1]\n",
    "            return jsonify({'Risk of AD':str(result[0]*100)})\n",
    "api.add_resource(RiskAPI, '/predict')\n",
    "if __name__ == '__main__':\n",
    "     app.run()\n",
    "#     from waitress import serve\n",
    "#     serve(app, host=\"0.0.0.0\", port=8080)"
   ]
  },
  {
   "cell_type": "code",
   "execution_count": null,
   "id": "93bd6c5d",
   "metadata": {},
   "outputs": [],
   "source": []
  }
 ],
 "metadata": {
  "kernelspec": {
   "display_name": "Python 3",
   "language": "python",
   "name": "python3"
  },
  "language_info": {
   "codemirror_mode": {
    "name": "ipython",
    "version": 3
   },
   "file_extension": ".py",
   "mimetype": "text/x-python",
   "name": "python",
   "nbconvert_exporter": "python",
   "pygments_lexer": "ipython3",
   "version": "3.8.8"
  }
 },
 "nbformat": 4,
 "nbformat_minor": 5
}
